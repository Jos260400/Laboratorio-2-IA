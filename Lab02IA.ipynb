{
 "cells": [
  {
   "cell_type": "markdown",
   "id": "ccb7032d-92e7-406c-ba0e-3d9a521b1a50",
   "metadata": {},
   "source": [
    "# LABORATORIO DOS\n",
    "Alexa Bravo  18831  \n",
    "Jose Garavito 18071  \n",
    "Marzo 15, 2022 "
   ]
  },
  {
   "cell_type": "code",
   "execution_count": 1,
   "id": "7c4440e7-a38d-4576-8ae4-ff6994e8aca9",
   "metadata": {},
   "outputs": [],
   "source": [
    "#importamos las librerías necesarias para trabajar\n",
    "import numpy as np\n",
    "import pandas as pd\n",
    "import matplotlib.pyplot as plt\n",
    "import seaborn as sns\n",
    "\n",
    "from sklearn.model_selection import train_test_split\n",
    "from sklearn.linear_model import LinearRegression\n",
    "from sklearn.preprocessing import PolynomialFeatures\n",
    "from sklearn.linear_model import LogisticRegression\n",
    "from sklearn import datasets, linear_model\n",
    "from sklearn.preprocessing import StandardScaler\n",
    "from sklearn.metrics import mean_squared_error, r2_score"
   ]
  },
  {
   "cell_type": "markdown",
   "id": "44e58486-da1c-421a-b18e-61c6a003d043",
   "metadata": {},
   "source": [
    "## Task 1 -Regresión Polinomial "
   ]
  },
  {
   "cell_type": "code",
   "execution_count": 2,
   "id": "3ef7a03a-1be1-4b18-84ce-1914f5b52e42",
   "metadata": {},
   "outputs": [
    {
     "data": {
      "text/html": [
       "<div>\n",
       "<style scoped>\n",
       "    .dataframe tbody tr th:only-of-type {\n",
       "        vertical-align: middle;\n",
       "    }\n",
       "\n",
       "    .dataframe tbody tr th {\n",
       "        vertical-align: top;\n",
       "    }\n",
       "\n",
       "    .dataframe thead th {\n",
       "        text-align: right;\n",
       "    }\n",
       "</style>\n",
       "<table border=\"1\" class=\"dataframe\">\n",
       "  <thead>\n",
       "    <tr style=\"text-align: right;\">\n",
       "      <th></th>\n",
       "      <th>Store</th>\n",
       "      <th>Date</th>\n",
       "      <th>Weekly_Sales</th>\n",
       "      <th>Holiday_Flag</th>\n",
       "      <th>Temperature</th>\n",
       "      <th>Fuel_Price</th>\n",
       "      <th>CPI</th>\n",
       "      <th>Unemployment</th>\n",
       "    </tr>\n",
       "  </thead>\n",
       "  <tbody>\n",
       "    <tr>\n",
       "      <th>0</th>\n",
       "      <td>1</td>\n",
       "      <td>05-02-2010</td>\n",
       "      <td>1643690.90</td>\n",
       "      <td>0</td>\n",
       "      <td>42.31</td>\n",
       "      <td>2.572</td>\n",
       "      <td>211.096358</td>\n",
       "      <td>8.106</td>\n",
       "    </tr>\n",
       "    <tr>\n",
       "      <th>1</th>\n",
       "      <td>1</td>\n",
       "      <td>12-02-2010</td>\n",
       "      <td>1641957.44</td>\n",
       "      <td>1</td>\n",
       "      <td>38.51</td>\n",
       "      <td>2.548</td>\n",
       "      <td>211.242170</td>\n",
       "      <td>8.106</td>\n",
       "    </tr>\n",
       "    <tr>\n",
       "      <th>2</th>\n",
       "      <td>1</td>\n",
       "      <td>19-02-2010</td>\n",
       "      <td>1611968.17</td>\n",
       "      <td>0</td>\n",
       "      <td>39.93</td>\n",
       "      <td>2.514</td>\n",
       "      <td>211.289143</td>\n",
       "      <td>8.106</td>\n",
       "    </tr>\n",
       "    <tr>\n",
       "      <th>3</th>\n",
       "      <td>1</td>\n",
       "      <td>26-02-2010</td>\n",
       "      <td>1409727.59</td>\n",
       "      <td>0</td>\n",
       "      <td>46.63</td>\n",
       "      <td>2.561</td>\n",
       "      <td>211.319643</td>\n",
       "      <td>8.106</td>\n",
       "    </tr>\n",
       "    <tr>\n",
       "      <th>4</th>\n",
       "      <td>1</td>\n",
       "      <td>05-03-2010</td>\n",
       "      <td>1554806.68</td>\n",
       "      <td>0</td>\n",
       "      <td>46.50</td>\n",
       "      <td>2.625</td>\n",
       "      <td>211.350143</td>\n",
       "      <td>8.106</td>\n",
       "    </tr>\n",
       "  </tbody>\n",
       "</table>\n",
       "</div>"
      ],
      "text/plain": [
       "   Store        Date  Weekly_Sales  Holiday_Flag  Temperature  Fuel_Price  \\\n",
       "0      1  05-02-2010    1643690.90             0        42.31       2.572   \n",
       "1      1  12-02-2010    1641957.44             1        38.51       2.548   \n",
       "2      1  19-02-2010    1611968.17             0        39.93       2.514   \n",
       "3      1  26-02-2010    1409727.59             0        46.63       2.561   \n",
       "4      1  05-03-2010    1554806.68             0        46.50       2.625   \n",
       "\n",
       "          CPI  Unemployment  \n",
       "0  211.096358         8.106  \n",
       "1  211.242170         8.106  \n",
       "2  211.289143         8.106  \n",
       "3  211.319643         8.106  \n",
       "4  211.350143         8.106  "
      ]
     },
     "execution_count": 2,
     "metadata": {},
     "output_type": "execute_result"
    }
   ],
   "source": [
    "#Cargamos los datos.\n",
    "df = pd.read_csv('Walmart.csv')\n",
    "df.head(5)"
   ]
  },
  {
   "cell_type": "markdown",
   "id": "41fcf041-4da3-4079-a2d9-ae9fde25da5b",
   "metadata": {},
   "source": [
    "#### Variables"
   ]
  },
  {
   "cell_type": "markdown",
   "id": "0eb1bd15-6235-4989-9229-67d04b086a34",
   "metadata": {},
   "source": [
    "**Variables Independientes:** Store, Date, Holiday_Flag, Temperature, Fuel_Price, CPI, Unemployment  \n",
    "**Variable Dependiente/A Predecir:** Weekly_Sales"
   ]
  },
  {
   "cell_type": "code",
   "execution_count": 3,
   "id": "659e56d1-a7c8-4c21-8a4b-17d0e722c67f",
   "metadata": {},
   "outputs": [],
   "source": [
    "#Separamos la columna \"Date\" en dia(d), mes(m) y año(a)\n",
    "df.Date=pd.to_datetime(df.Date)\n",
    "df['d'] = df.Date.dt.weekday\n",
    "df['m'] = df.Date.dt.month\n",
    "df['a'] = df.Date.dt.year"
   ]
  },
  {
   "cell_type": "code",
   "execution_count": 4,
   "id": "ad07298b-e508-4998-98ea-0a0df62de02d",
   "metadata": {},
   "outputs": [],
   "source": [
    "#Quitamos la columna de \"Date\"\n",
    "df.drop(['Date'], axis=1, inplace=True)"
   ]
  },
  {
   "cell_type": "code",
   "execution_count": 5,
   "id": "3de0054c-dc51-497b-a5ea-6fcda476e16f",
   "metadata": {},
   "outputs": [
    {
     "data": {
      "text/html": [
       "<div>\n",
       "<style scoped>\n",
       "    .dataframe tbody tr th:only-of-type {\n",
       "        vertical-align: middle;\n",
       "    }\n",
       "\n",
       "    .dataframe tbody tr th {\n",
       "        vertical-align: top;\n",
       "    }\n",
       "\n",
       "    .dataframe thead th {\n",
       "        text-align: right;\n",
       "    }\n",
       "</style>\n",
       "<table border=\"1\" class=\"dataframe\">\n",
       "  <thead>\n",
       "    <tr style=\"text-align: right;\">\n",
       "      <th></th>\n",
       "      <th>Store</th>\n",
       "      <th>Weekly_Sales</th>\n",
       "      <th>Holiday_Flag</th>\n",
       "      <th>Temperature</th>\n",
       "      <th>Fuel_Price</th>\n",
       "      <th>CPI</th>\n",
       "      <th>Unemployment</th>\n",
       "      <th>d</th>\n",
       "      <th>m</th>\n",
       "      <th>a</th>\n",
       "    </tr>\n",
       "  </thead>\n",
       "  <tbody>\n",
       "    <tr>\n",
       "      <th>0</th>\n",
       "      <td>1</td>\n",
       "      <td>1643690.90</td>\n",
       "      <td>0</td>\n",
       "      <td>42.31</td>\n",
       "      <td>2.572</td>\n",
       "      <td>211.096358</td>\n",
       "      <td>8.106</td>\n",
       "      <td>6</td>\n",
       "      <td>5</td>\n",
       "      <td>2010</td>\n",
       "    </tr>\n",
       "    <tr>\n",
       "      <th>1</th>\n",
       "      <td>1</td>\n",
       "      <td>1641957.44</td>\n",
       "      <td>1</td>\n",
       "      <td>38.51</td>\n",
       "      <td>2.548</td>\n",
       "      <td>211.242170</td>\n",
       "      <td>8.106</td>\n",
       "      <td>3</td>\n",
       "      <td>12</td>\n",
       "      <td>2010</td>\n",
       "    </tr>\n",
       "    <tr>\n",
       "      <th>2</th>\n",
       "      <td>1</td>\n",
       "      <td>1611968.17</td>\n",
       "      <td>0</td>\n",
       "      <td>39.93</td>\n",
       "      <td>2.514</td>\n",
       "      <td>211.289143</td>\n",
       "      <td>8.106</td>\n",
       "      <td>4</td>\n",
       "      <td>2</td>\n",
       "      <td>2010</td>\n",
       "    </tr>\n",
       "    <tr>\n",
       "      <th>3</th>\n",
       "      <td>1</td>\n",
       "      <td>1409727.59</td>\n",
       "      <td>0</td>\n",
       "      <td>46.63</td>\n",
       "      <td>2.561</td>\n",
       "      <td>211.319643</td>\n",
       "      <td>8.106</td>\n",
       "      <td>4</td>\n",
       "      <td>2</td>\n",
       "      <td>2010</td>\n",
       "    </tr>\n",
       "    <tr>\n",
       "      <th>4</th>\n",
       "      <td>1</td>\n",
       "      <td>1554806.68</td>\n",
       "      <td>0</td>\n",
       "      <td>46.50</td>\n",
       "      <td>2.625</td>\n",
       "      <td>211.350143</td>\n",
       "      <td>8.106</td>\n",
       "      <td>0</td>\n",
       "      <td>5</td>\n",
       "      <td>2010</td>\n",
       "    </tr>\n",
       "  </tbody>\n",
       "</table>\n",
       "</div>"
      ],
      "text/plain": [
       "   Store  Weekly_Sales  Holiday_Flag  Temperature  Fuel_Price         CPI  \\\n",
       "0      1    1643690.90             0        42.31       2.572  211.096358   \n",
       "1      1    1641957.44             1        38.51       2.548  211.242170   \n",
       "2      1    1611968.17             0        39.93       2.514  211.289143   \n",
       "3      1    1409727.59             0        46.63       2.561  211.319643   \n",
       "4      1    1554806.68             0        46.50       2.625  211.350143   \n",
       "\n",
       "   Unemployment  d   m     a  \n",
       "0         8.106  6   5  2010  \n",
       "1         8.106  3  12  2010  \n",
       "2         8.106  4   2  2010  \n",
       "3         8.106  4   2  2010  \n",
       "4         8.106  0   5  2010  "
      ]
     },
     "execution_count": 5,
     "metadata": {},
     "output_type": "execute_result"
    }
   ],
   "source": [
    "df.head(5)"
   ]
  },
  {
   "cell_type": "code",
   "execution_count": 6,
   "id": "11f9a3ec-df22-4b8d-9a32-dd620d40e0fe",
   "metadata": {},
   "outputs": [],
   "source": [
    "#Separamos las variables dependientes e independientes\n",
    "x = df[['Store', 'Temperature','Fuel_Price', 'Unemployment', 'Holiday_Flag', 'CPI', 'd', 'm', 'a']]\n",
    "y = df['Weekly_Sales']"
   ]
  },
  {
   "cell_type": "code",
   "execution_count": 7,
   "id": "34e1e059-6837-425e-bde5-c7aeed67e700",
   "metadata": {},
   "outputs": [],
   "source": [
    "#Referencia: https://aprendeia.com/algoritmo-regresion-polinomial-machine-learning-practica-con-python/\n",
    "#Separamos los datos en conjunto de prueba y entrenamiento, indicando el 30% test y 70% train. \n",
    "xTrain, xTest, yTrain, yTest = train_test_split(x, y, test_size=0.3)"
   ]
  },
  {
   "cell_type": "code",
   "execution_count": 8,
   "id": "c98b5600-8210-4a1d-8e3f-cbe261176e8f",
   "metadata": {},
   "outputs": [],
   "source": [
    "#Definimos el grado del polinomio \n",
    "polynomial = PolynomialFeatures(degree= 6)"
   ]
  },
  {
   "cell_type": "code",
   "execution_count": 9,
   "id": "55919b0d-507c-4e2a-88cb-3a136a344f39",
   "metadata": {},
   "outputs": [],
   "source": [
    "#Se transforman las caracteristicas de los datos, a unas de mayor grado\n",
    "xTrainP = polynomial.fit_transform(xTrain)\n",
    "xTestP = polynomial.fit_transform(xTest)"
   ]
  },
  {
   "cell_type": "code",
   "execution_count": 10,
   "id": "e1ad6f65-0450-41eb-b8ab-12b0fa78e369",
   "metadata": {},
   "outputs": [],
   "source": [
    "#Definimos el algoritmo a utilizar \n",
    "lr = linear_model.LinearRegression()"
   ]
  },
  {
   "cell_type": "code",
   "execution_count": 11,
   "id": "79314521-1594-41e3-a096-ae16470f2ea8",
   "metadata": {},
   "outputs": [
    {
     "data": {
      "text/plain": [
       "LinearRegression()"
      ]
     },
     "execution_count": 11,
     "metadata": {},
     "output_type": "execute_result"
    }
   ],
   "source": [
    "#Entrenamos el modelo\n",
    "lr.fit(xTrainP, yTrain)"
   ]
  },
  {
   "cell_type": "code",
   "execution_count": 12,
   "id": "50baa58e-18bd-4c25-9d54-3476fcf4dde5",
   "metadata": {},
   "outputs": [],
   "source": [
    "#Realizamos una predicción\n",
    "yPred = lr.predict(xTestP)"
   ]
  },
  {
   "cell_type": "code",
   "execution_count": 13,
   "id": "acdc20a2-cd7e-4379-9b8a-5c36b4b1c704",
   "metadata": {},
   "outputs": [
    {
     "data": {
      "image/png": "[encoded data removed]",
      "text/plain": [
       "<Figure size 432x288 with 1 Axes>"
      ]
     },
     "metadata": {
      "needs_background": "light"
     },
     "output_type": "display_data"
    }
   ],
   "source": [
    "plt.scatter(xTest['a'], yTest)\n",
    "plt.plot(xTest, yPred, color='red', linewidth=3)\n",
    "plt.show()"
   ]
  },
  {
   "cell_type": "code",
   "execution_count": 14,
   "id": "527fe902-abf3-462b-9411-93f8b5b46247",
   "metadata": {},
   "outputs": [
    {
     "name": "stdout",
     "output_type": "stream",
     "text": [
      "Valor de la pendiente o coeficiente \"a\":\n",
      "[-2.28826428e+00 -3.24055133e+00  2.39196200e-01 ...  1.59835611e-05\n",
      "  5.73922047e-07  2.45027096e-08]\n"
     ]
    }
   ],
   "source": [
    "print('Valor de la pendiente o coeficiente \"a\":')\n",
    "print(lr.coef_)"
   ]
  },
  {
   "cell_type": "code",
   "execution_count": 15,
   "id": "c8335060-ab99-42cb-946e-b6866ddb02f0",
   "metadata": {},
   "outputs": [
    {
     "name": "stdout",
     "output_type": "stream",
     "text": [
      "Valor de la intersección o coeficiente \"b\":\n",
      "-187991652074.25742\n"
     ]
    }
   ],
   "source": [
    "print('Valor de la intersección o coeficiente \"b\":')\n",
    "print(lr.intercept_)"
   ]
  },
  {
   "cell_type": "markdown",
   "id": "7fdc4fb1-e59a-478f-96f8-d37461b298f2",
   "metadata": {},
   "source": [
    "#### Precición del Modelo"
   ]
  },
  {
   "cell_type": "code",
   "execution_count": 16,
   "id": "ed301a79-c440-4eea-93ad-d2edee2a1b67",
   "metadata": {},
   "outputs": [
    {
     "name": "stdout",
     "output_type": "stream",
     "text": [
      "Precisión del modelo con grado 3:\n",
      "0.44099623730203075\n"
     ]
    }
   ],
   "source": [
    "print('Precisión del modelo con grado 3:')\n",
    "print(lr.score(xTrainP, yTrain))\n",
    "rmse = np.sqrt(mean_squared_error(yTest,yPred))\n",
    "r2 = r2_score(yTest,yPred)"
   ]
  },
  {
   "cell_type": "code",
   "execution_count": 25,
   "id": "ebd7c358-c562-49d6-91a9-853588dfd64d",
   "metadata": {},
   "outputs": [
    {
     "name": "stdout",
     "output_type": "stream",
     "text": [
      "Precisión del modelo con grado 4:\n",
      "0.672750882988767\n"
     ]
    }
   ],
   "source": [
    "print('Precisión del modelo con grado 4:')\n",
    "print(lr.score(xTrainP, yTrain))"
   ]
  },
  {
   "cell_type": "code",
   "execution_count": 34,
   "id": "644799f3-d1c1-4550-aa28-315a4cabbda1",
   "metadata": {},
   "outputs": [
    {
     "name": "stdout",
     "output_type": "stream",
     "text": [
      "Precisión del modelo con grado 5:\n",
      "0.8045829734947362\n"
     ]
    }
   ],
   "source": [
    "print('Precisión del modelo con grado 5:')\n",
    "print(lr.score(xTrainP, yTrain))"
   ]
  },
  {
   "cell_type": "code",
   "execution_count": 17,
   "id": "9105a5a6-e20c-4e21-add3-96dd58ca2805",
   "metadata": {},
   "outputs": [
    {
     "name": "stdout",
     "output_type": "stream",
     "text": [
      "Precisión del modelo con grado 6:\n",
      "0.8383406675976772\n"
     ]
    }
   ],
   "source": [
    "print('Precisión del modelo con grado 6:')\n",
    "print(lr.score(xTrainP, yTrain))"
   ]
  },
  {
   "cell_type": "markdown",
   "id": "c49525ac-f6e7-49be-87c3-3dd6349cbd76",
   "metadata": {},
   "source": [
    "### Task 2 -K-Nearest Neighbors"
   ]
  },
  {
   "cell_type": "code",
   "execution_count": 44,
   "id": "175e66ba-6d88-4b2f-bda5-0fc16c049163",
   "metadata": {},
   "outputs": [
    {
     "data": {
      "text/html": [
       "<div>\n",
       "<style scoped>\n",
       "    .dataframe tbody tr th:only-of-type {\n",
       "        vertical-align: middle;\n",
       "    }\n",
       "\n",
       "    .dataframe tbody tr th {\n",
       "        vertical-align: top;\n",
       "    }\n",
       "\n",
       "    .dataframe thead th {\n",
       "        text-align: right;\n",
       "    }\n",
       "</style>\n",
       "<table border=\"1\" class=\"dataframe\">\n",
       "  <thead>\n",
       "    <tr style=\"text-align: right;\">\n",
       "      <th></th>\n",
       "      <th>name</th>\n",
       "      <th>diameter</th>\n",
       "      <th>weight</th>\n",
       "      <th>red</th>\n",
       "      <th>green</th>\n",
       "      <th>blue</th>\n",
       "    </tr>\n",
       "  </thead>\n",
       "  <tbody>\n",
       "    <tr>\n",
       "      <th>0</th>\n",
       "      <td>orange</td>\n",
       "      <td>2.96</td>\n",
       "      <td>86.76</td>\n",
       "      <td>172</td>\n",
       "      <td>85</td>\n",
       "      <td>2</td>\n",
       "    </tr>\n",
       "    <tr>\n",
       "      <th>1</th>\n",
       "      <td>orange</td>\n",
       "      <td>3.91</td>\n",
       "      <td>88.05</td>\n",
       "      <td>166</td>\n",
       "      <td>78</td>\n",
       "      <td>3</td>\n",
       "    </tr>\n",
       "    <tr>\n",
       "      <th>2</th>\n",
       "      <td>orange</td>\n",
       "      <td>4.42</td>\n",
       "      <td>95.17</td>\n",
       "      <td>156</td>\n",
       "      <td>81</td>\n",
       "      <td>2</td>\n",
       "    </tr>\n",
       "    <tr>\n",
       "      <th>3</th>\n",
       "      <td>orange</td>\n",
       "      <td>4.47</td>\n",
       "      <td>95.60</td>\n",
       "      <td>163</td>\n",
       "      <td>81</td>\n",
       "      <td>4</td>\n",
       "    </tr>\n",
       "    <tr>\n",
       "      <th>4</th>\n",
       "      <td>orange</td>\n",
       "      <td>4.48</td>\n",
       "      <td>95.76</td>\n",
       "      <td>161</td>\n",
       "      <td>72</td>\n",
       "      <td>9</td>\n",
       "    </tr>\n",
       "  </tbody>\n",
       "</table>\n",
       "</div>"
      ],
      "text/plain": [
       "     name  diameter  weight  red  green  blue\n",
       "0  orange      2.96   86.76  172     85     2\n",
       "1  orange      3.91   88.05  166     78     3\n",
       "2  orange      4.42   95.17  156     81     2\n",
       "3  orange      4.47   95.60  163     81     4\n",
       "4  orange      4.48   95.76  161     72     9"
      ]
     },
     "execution_count": 44,
     "metadata": {},
     "output_type": "execute_result"
    }
   ],
   "source": [
    "#Cargamos los datos.\n",
    "df = pd.read_csv('Oranges vs Grapefruit.csv')\n",
    "df.head(5)"
   ]
  },
  {
   "cell_type": "code",
   "execution_count": 67,
   "id": "c95b92e3-caca-41f2-be07-558278413c26",
   "metadata": {},
   "outputs": [
    {
     "data": {
      "text/html": [
       "<div>\n",
       "<style scoped>\n",
       "    .dataframe tbody tr th:only-of-type {\n",
       "        vertical-align: middle;\n",
       "    }\n",
       "\n",
       "    .dataframe tbody tr th {\n",
       "        vertical-align: top;\n",
       "    }\n",
       "\n",
       "    .dataframe thead th {\n",
       "        text-align: right;\n",
       "    }\n",
       "</style>\n",
       "<table border=\"1\" class=\"dataframe\">\n",
       "  <thead>\n",
       "    <tr style=\"text-align: right;\">\n",
       "      <th></th>\n",
       "      <th>name</th>\n",
       "      <th>diameter</th>\n",
       "      <th>weight</th>\n",
       "      <th>red</th>\n",
       "      <th>green</th>\n",
       "      <th>blue</th>\n",
       "    </tr>\n",
       "  </thead>\n",
       "  <tbody>\n",
       "    <tr>\n",
       "      <th>0</th>\n",
       "      <td>0</td>\n",
       "      <td>2.96</td>\n",
       "      <td>86.76</td>\n",
       "      <td>172</td>\n",
       "      <td>85</td>\n",
       "      <td>2</td>\n",
       "    </tr>\n",
       "    <tr>\n",
       "      <th>1</th>\n",
       "      <td>0</td>\n",
       "      <td>3.91</td>\n",
       "      <td>88.05</td>\n",
       "      <td>166</td>\n",
       "      <td>78</td>\n",
       "      <td>3</td>\n",
       "    </tr>\n",
       "    <tr>\n",
       "      <th>2</th>\n",
       "      <td>0</td>\n",
       "      <td>4.42</td>\n",
       "      <td>95.17</td>\n",
       "      <td>156</td>\n",
       "      <td>81</td>\n",
       "      <td>2</td>\n",
       "    </tr>\n",
       "    <tr>\n",
       "      <th>3</th>\n",
       "      <td>0</td>\n",
       "      <td>4.47</td>\n",
       "      <td>95.60</td>\n",
       "      <td>163</td>\n",
       "      <td>81</td>\n",
       "      <td>4</td>\n",
       "    </tr>\n",
       "    <tr>\n",
       "      <th>4</th>\n",
       "      <td>0</td>\n",
       "      <td>4.48</td>\n",
       "      <td>95.76</td>\n",
       "      <td>161</td>\n",
       "      <td>72</td>\n",
       "      <td>9</td>\n",
       "    </tr>\n",
       "  </tbody>\n",
       "</table>\n",
       "</div>"
      ],
      "text/plain": [
       "   name  diameter  weight  red  green  blue\n",
       "0     0      2.96   86.76  172     85     2\n",
       "1     0      3.91   88.05  166     78     3\n",
       "2     0      4.42   95.17  156     81     2\n",
       "3     0      4.47   95.60  163     81     4\n",
       "4     0      4.48   95.76  161     72     9"
      ]
     },
     "execution_count": 67,
     "metadata": {},
     "output_type": "execute_result"
    }
   ],
   "source": [
    "#Volvemos binaria la variable name. \n",
    "df['name'] = df['name'].replace(to_replace='orange', value=0)\n",
    "df['name'] = df['name'].replace(to_replace='grapefruit', value=1)\n",
    "df.head(5)"
   ]
  },
  {
   "cell_type": "code",
   "execution_count": 109,
   "id": "9ec256ec-4f8e-4f8f-9722-2abc1e5a3a16",
   "metadata": {},
   "outputs": [],
   "source": [
    "#Definimos los datos de \"x\" y \"y\"\n",
    "x = df[['diameter', 'weight', 'red', 'blue', 'green']]\n",
    "y = df['name']"
   ]
  },
  {
   "cell_type": "code",
   "execution_count": 130,
   "id": "d490939f-ce5a-451b-a3c2-c340f07ce292",
   "metadata": {},
   "outputs": [],
   "source": [
    "#Separamos los datos en test y train \n",
    "xTrain, xTest, yTrain, yTest = train_test_split(x, y, test_size=0.3, random_state=123)"
   ]
  },
  {
   "cell_type": "code",
   "execution_count": 131,
   "id": "ecc4f330-bd68-4002-97cf-9356c8013c09",
   "metadata": {},
   "outputs": [],
   "source": [
    "#https://medium.com/analytics-vidhya/implementing-k-nearest-neighbours-knn-without-using-scikit-learn-3905b4decc3c\n",
    "class KNN:\n",
    "    def __init__(self, k):\n",
    "        self.k = k\n",
    "    #Ajustamos el modelo    \n",
    "    def fit(self, x, y):\n",
    "        self.xTrain = x\n",
    "        self.yTrain = y\n",
    "    \n",
    "    #Utilizamos el algoritmo Euclidiano para calcular las distancias\n",
    "    def distance(self, x1, x2):\n",
    "        distance = scipy.spatial.distance.euclidean(x1, x2)\n",
    "        \n",
    "    #Guarda las K distancias mas cortas con sus indices.\n",
    "    def predict(self, xTest):\n",
    "        final_output = []\n",
    "        for i in range(len(xTest)):\n",
    "            d = []\n",
    "            votes = []\n",
    "            for j in range(len(xTrain)):\n",
    "                dist = scipy.spatial.distance.euclidean(xTrain[j] , xTest[i])\n",
    "                d.append([dist, j])\n",
    "            d.sort()\n",
    "            d = d[0:self.k]\n",
    "            for d, j in d:\n",
    "                votes.append(yTrain[j])\n",
    "            ans = Counter(votes).most_common(1)[0][0]\n",
    "            final_output.append(ans)\n",
    "            \n",
    "        return final_output\n",
    "    \n",
    "    #Compara el resultado de la prueba, con el resultado real\n",
    "    def score(self, xTest, yTest):\n",
    "        predictions = self.predict(xTest)\n",
    "        return (predictions == yTest).sum() / len(yTest)"
   ]
  },
  {
   "cell_type": "code",
   "execution_count": 132,
   "id": "6ece75c2-1d1f-4649-bd2f-49efbef3f5d0",
   "metadata": {},
   "outputs": [],
   "source": [
    "##Definimos y cargamos el modelo \n",
    "modelKNN = KNN(k=6)\n",
    "modelKNN.fit(xTrain,yTrain)"
   ]
  },
  {
   "cell_type": "code",
   "execution_count": 133,
   "id": "ef626947-49e3-4657-865c-c3fd6dc23f46",
   "metadata": {},
   "outputs": [
    {
     "data": {
      "image/png": "[encoded data removed]",
      "text/plain": [
       "<Figure size 432x288 with 1 Axes>"
      ]
     },
     "metadata": {
      "needs_background": "light"
     },
     "output_type": "display_data"
    }
   ],
   "source": [
    "#Vemos el funcionamiento\n",
    "plt.scatter(xTest['diameter'], yTest, s=3)\n",
    "plt.show()"
   ]
  },
  {
   "cell_type": "markdown",
   "id": "c7af3b53-2021-4856-a4a9-57e92a5e4641",
   "metadata": {},
   "source": [
    "### Task 3 -Support Vector Machine "
   ]
  },
  {
   "cell_type": "code",
   "execution_count": 103,
   "id": "46f40206-d198-4724-851d-874baedde4ce",
   "metadata": {},
   "outputs": [
    {
     "data": {
      "text/html": [
       "<div>\n",
       "<style scoped>\n",
       "    .dataframe tbody tr th:only-of-type {\n",
       "        vertical-align: middle;\n",
       "    }\n",
       "\n",
       "    .dataframe tbody tr th {\n",
       "        vertical-align: top;\n",
       "    }\n",
       "\n",
       "    .dataframe thead th {\n",
       "        text-align: right;\n",
       "    }\n",
       "</style>\n",
       "<table border=\"1\" class=\"dataframe\">\n",
       "  <thead>\n",
       "    <tr style=\"text-align: right;\">\n",
       "      <th></th>\n",
       "      <th>name</th>\n",
       "      <th>diameter</th>\n",
       "      <th>weight</th>\n",
       "      <th>red</th>\n",
       "      <th>green</th>\n",
       "      <th>blue</th>\n",
       "    </tr>\n",
       "  </thead>\n",
       "  <tbody>\n",
       "    <tr>\n",
       "      <th>0</th>\n",
       "      <td>orange</td>\n",
       "      <td>2.96</td>\n",
       "      <td>86.76</td>\n",
       "      <td>172</td>\n",
       "      <td>85</td>\n",
       "      <td>2</td>\n",
       "    </tr>\n",
       "    <tr>\n",
       "      <th>1</th>\n",
       "      <td>orange</td>\n",
       "      <td>3.91</td>\n",
       "      <td>88.05</td>\n",
       "      <td>166</td>\n",
       "      <td>78</td>\n",
       "      <td>3</td>\n",
       "    </tr>\n",
       "    <tr>\n",
       "      <th>2</th>\n",
       "      <td>orange</td>\n",
       "      <td>4.42</td>\n",
       "      <td>95.17</td>\n",
       "      <td>156</td>\n",
       "      <td>81</td>\n",
       "      <td>2</td>\n",
       "    </tr>\n",
       "    <tr>\n",
       "      <th>3</th>\n",
       "      <td>orange</td>\n",
       "      <td>4.47</td>\n",
       "      <td>95.60</td>\n",
       "      <td>163</td>\n",
       "      <td>81</td>\n",
       "      <td>4</td>\n",
       "    </tr>\n",
       "    <tr>\n",
       "      <th>4</th>\n",
       "      <td>orange</td>\n",
       "      <td>4.48</td>\n",
       "      <td>95.76</td>\n",
       "      <td>161</td>\n",
       "      <td>72</td>\n",
       "      <td>9</td>\n",
       "    </tr>\n",
       "  </tbody>\n",
       "</table>\n",
       "</div>"
      ],
      "text/plain": [
       "     name  diameter  weight  red  green  blue\n",
       "0  orange      2.96   86.76  172     85     2\n",
       "1  orange      3.91   88.05  166     78     3\n",
       "2  orange      4.42   95.17  156     81     2\n",
       "3  orange      4.47   95.60  163     81     4\n",
       "4  orange      4.48   95.76  161     72     9"
      ]
     },
     "execution_count": 103,
     "metadata": {},
     "output_type": "execute_result"
    }
   ],
   "source": [
    "#Cargamos los datos.\n",
    "df = pd.read_csv('Oranges vs Grapefruit.csv')\n",
    "df.head(5)"
   ]
  },
  {
   "cell_type": "code",
   "execution_count": 19,
   "id": "4d9af8e1-57a4-40d1-a8a8-c5b89c8a8eae",
   "metadata": {},
   "outputs": [
    {
     "data": {
      "text/html": [
       "<div>\n",
       "<style scoped>\n",
       "    .dataframe tbody tr th:only-of-type {\n",
       "        vertical-align: middle;\n",
       "    }\n",
       "\n",
       "    .dataframe tbody tr th {\n",
       "        vertical-align: top;\n",
       "    }\n",
       "\n",
       "    .dataframe thead th {\n",
       "        text-align: right;\n",
       "    }\n",
       "</style>\n",
       "<table border=\"1\" class=\"dataframe\">\n",
       "  <thead>\n",
       "    <tr style=\"text-align: right;\">\n",
       "      <th></th>\n",
       "      <th>name</th>\n",
       "      <th>diameter</th>\n",
       "      <th>weight</th>\n",
       "    </tr>\n",
       "  </thead>\n",
       "  <tbody>\n",
       "    <tr>\n",
       "      <th>0</th>\n",
       "      <td>orange</td>\n",
       "      <td>2.96</td>\n",
       "      <td>86.76</td>\n",
       "    </tr>\n",
       "    <tr>\n",
       "      <th>1</th>\n",
       "      <td>orange</td>\n",
       "      <td>3.91</td>\n",
       "      <td>88.05</td>\n",
       "    </tr>\n",
       "    <tr>\n",
       "      <th>2</th>\n",
       "      <td>orange</td>\n",
       "      <td>4.42</td>\n",
       "      <td>95.17</td>\n",
       "    </tr>\n",
       "    <tr>\n",
       "      <th>3</th>\n",
       "      <td>orange</td>\n",
       "      <td>4.47</td>\n",
       "      <td>95.60</td>\n",
       "    </tr>\n",
       "    <tr>\n",
       "      <th>4</th>\n",
       "      <td>orange</td>\n",
       "      <td>4.48</td>\n",
       "      <td>95.76</td>\n",
       "    </tr>\n",
       "  </tbody>\n",
       "</table>\n",
       "</div>"
      ],
      "text/plain": [
       "     name  diameter  weight\n",
       "0  orange      2.96   86.76\n",
       "1  orange      3.91   88.05\n",
       "2  orange      4.42   95.17\n",
       "3  orange      4.47   95.60\n",
       "4  orange      4.48   95.76"
      ]
     },
     "execution_count": 19,
     "metadata": {},
     "output_type": "execute_result"
    }
   ],
   "source": [
    "#Eliminamos las columnas \"red\", \"green\" y \"blue\"\n",
    "df.drop(['red'], axis=1, inplace=True)\n",
    "df.drop(['green'], axis=1, inplace=True)\n",
    "df.drop(['blue'], axis=1, inplace=True)\n",
    "df.head(5)"
   ]
  },
  {
   "cell_type": "code",
   "execution_count": 20,
   "id": "f861b212-b4f8-467f-822f-b33c136413bd",
   "metadata": {},
   "outputs": [
    {
     "data": {
      "text/html": [
       "<div>\n",
       "<style scoped>\n",
       "    .dataframe tbody tr th:only-of-type {\n",
       "        vertical-align: middle;\n",
       "    }\n",
       "\n",
       "    .dataframe tbody tr th {\n",
       "        vertical-align: top;\n",
       "    }\n",
       "\n",
       "    .dataframe thead th {\n",
       "        text-align: right;\n",
       "    }\n",
       "</style>\n",
       "<table border=\"1\" class=\"dataframe\">\n",
       "  <thead>\n",
       "    <tr style=\"text-align: right;\">\n",
       "      <th></th>\n",
       "      <th>name</th>\n",
       "      <th>diameter</th>\n",
       "      <th>weight</th>\n",
       "    </tr>\n",
       "  </thead>\n",
       "  <tbody>\n",
       "    <tr>\n",
       "      <th>0</th>\n",
       "      <td>0</td>\n",
       "      <td>2.96</td>\n",
       "      <td>86.76</td>\n",
       "    </tr>\n",
       "    <tr>\n",
       "      <th>1</th>\n",
       "      <td>0</td>\n",
       "      <td>3.91</td>\n",
       "      <td>88.05</td>\n",
       "    </tr>\n",
       "    <tr>\n",
       "      <th>2</th>\n",
       "      <td>0</td>\n",
       "      <td>4.42</td>\n",
       "      <td>95.17</td>\n",
       "    </tr>\n",
       "    <tr>\n",
       "      <th>3</th>\n",
       "      <td>0</td>\n",
       "      <td>4.47</td>\n",
       "      <td>95.60</td>\n",
       "    </tr>\n",
       "    <tr>\n",
       "      <th>4</th>\n",
       "      <td>0</td>\n",
       "      <td>4.48</td>\n",
       "      <td>95.76</td>\n",
       "    </tr>\n",
       "  </tbody>\n",
       "</table>\n",
       "</div>"
      ],
      "text/plain": [
       "   name  diameter  weight\n",
       "0     0      2.96   86.76\n",
       "1     0      3.91   88.05\n",
       "2     0      4.42   95.17\n",
       "3     0      4.47   95.60\n",
       "4     0      4.48   95.76"
      ]
     },
     "execution_count": 20,
     "metadata": {},
     "output_type": "execute_result"
    }
   ],
   "source": [
    "#Volvemos binaria la variable name. \n",
    "df['name'] = df['name'].replace(to_replace='orange', value=0)\n",
    "df['name'] = df['name'].replace(to_replace='grapefruit', value=1)\n",
    "df.head(5)"
   ]
  },
  {
   "cell_type": "code",
   "execution_count": 21,
   "id": "ee93bbd5-443c-4540-a503-3c1bfebb6c7b",
   "metadata": {},
   "outputs": [],
   "source": [
    "#Definimos los datos de \"x\" y \"y\"\n",
    "x = df[['diameter', 'weight']]\n",
    "y = df['name']"
   ]
  },
  {
   "cell_type": "code",
   "execution_count": 23,
   "id": "5ec1125c-9573-44d1-84b3-8d661fe80b1f",
   "metadata": {},
   "outputs": [],
   "source": [
    "#Separamos los datos en test y train \n",
    "xTrain, xTest, yTrain, yTest = train_test_split(x, y, test_size=0.3, random_state=123)"
   ]
  },
  {
   "cell_type": "code",
   "execution_count": 28,
   "id": "3692b6b6-8763-4a9d-b90f-ee55d66eb0a0",
   "metadata": {},
   "outputs": [
    {
     "data": {
      "text/plain": [
       "SVC()"
      ]
     },
     "execution_count": 28,
     "metadata": {},
     "output_type": "execute_result"
    }
   ],
   "source": [
    "#Importamos y cargamos el modelo \n",
    "from sklearn import svm, datasets\n",
    "from sklearn.metrics import classification_report, accuracy_score, confusion_matrix\n",
    "modelSVM = svm.SVC()\n",
    "modelSVM.fit(xTrain, yTrain)"
   ]
  },
  {
   "cell_type": "code",
   "execution_count": 29,
   "id": "598231aa-c690-4e97-9d7b-09933da74fc4",
   "metadata": {},
   "outputs": [
    {
     "name": "stdout",
     "output_type": "stream",
     "text": [
      "              precision    recall  f1-score   support\n",
      "\n",
      "           0       0.86      0.89      0.88      1485\n",
      "           1       0.89      0.85      0.87      1515\n",
      "\n",
      "    accuracy                           0.87      3000\n",
      "   macro avg       0.87      0.87      0.87      3000\n",
      "weighted avg       0.88      0.87      0.87      3000\n",
      "\n"
     ]
    }
   ],
   "source": [
    "#Creamos una predicción antes del tuning\n",
    "predictions = modelSVM.predict(xTest)\n",
    "print(classification_report(yTest, predictions))"
   ]
  },
  {
   "cell_type": "code",
   "execution_count": 30,
   "id": "bc6c3370-7f62-4839-9004-e6532d43724f",
   "metadata": {},
   "outputs": [],
   "source": [
    "from sklearn.model_selection import GridSearchCV\n",
    "\n",
    "#Definimos el rango del parametro\n",
    "param_grid = {'C': [0.1, 1, 10, 100, 1000],\n",
    "              'gamma': [1, 0.1, 0.01, 0.001, 0.0001],\n",
    "              'kernel': ['rbf']}"
   ]
  },
  {
   "cell_type": "code",
   "execution_count": 32,
   "id": "09bced27-5d5a-4634-af15-54d73329d03c",
   "metadata": {},
   "outputs": [
    {
     "name": "stdout",
     "output_type": "stream",
     "text": [
      "Fitting 3 folds for each of 25 candidates, totalling 75 fits\n",
      "[CV 1/3] END .....................C=0.1, gamma=1, kernel=rbf; total time=   1.3s\n",
      "[CV 2/3] END .....................C=0.1, gamma=1, kernel=rbf; total time=   1.1s\n",
      "[CV 3/3] END .....................C=0.1, gamma=1, kernel=rbf; total time=   1.1s\n",
      "[CV 1/3] END ...................C=0.1, gamma=0.1, kernel=rbf; total time=   0.6s\n",
      "[CV 2/3] END ...................C=0.1, gamma=0.1, kernel=rbf; total time=   0.7s\n",
      "[CV 3/3] END ...................C=0.1, gamma=0.1, kernel=rbf; total time=   0.6s\n",
      "[CV 1/3] END ..................C=0.1, gamma=0.01, kernel=rbf; total time=   0.7s\n",
      "[CV 2/3] END ..................C=0.1, gamma=0.01, kernel=rbf; total time=   0.5s\n",
      "[CV 3/3] END ..................C=0.1, gamma=0.01, kernel=rbf; total time=   0.6s\n",
      "[CV 1/3] END .................C=0.1, gamma=0.001, kernel=rbf; total time=   0.6s\n",
      "[CV 2/3] END .................C=0.1, gamma=0.001, kernel=rbf; total time=   0.5s\n",
      "[CV 3/3] END .................C=0.1, gamma=0.001, kernel=rbf; total time=   0.5s\n",
      "[CV 1/3] END ................C=0.1, gamma=0.0001, kernel=rbf; total time=   0.6s\n",
      "[CV 2/3] END ................C=0.1, gamma=0.0001, kernel=rbf; total time=   0.5s\n",
      "[CV 3/3] END ................C=0.1, gamma=0.0001, kernel=rbf; total time=   0.6s\n",
      "[CV 1/3] END .......................C=1, gamma=1, kernel=rbf; total time=   1.1s\n",
      "[CV 2/3] END .......................C=1, gamma=1, kernel=rbf; total time=   1.2s\n",
      "[CV 3/3] END .......................C=1, gamma=1, kernel=rbf; total time=   1.1s\n",
      "[CV 1/3] END .....................C=1, gamma=0.1, kernel=rbf; total time=   0.7s\n",
      "[CV 2/3] END .....................C=1, gamma=0.1, kernel=rbf; total time=   0.7s\n",
      "[CV 3/3] END .....................C=1, gamma=0.1, kernel=rbf; total time=   0.7s\n",
      "[CV 1/3] END ....................C=1, gamma=0.01, kernel=rbf; total time=   0.6s\n",
      "[CV 2/3] END ....................C=1, gamma=0.01, kernel=rbf; total time=   0.6s\n",
      "[CV 3/3] END ....................C=1, gamma=0.01, kernel=rbf; total time=   0.6s\n",
      "[CV 1/3] END ...................C=1, gamma=0.001, kernel=rbf; total time=   0.5s\n",
      "[CV 2/3] END ...................C=1, gamma=0.001, kernel=rbf; total time=   0.6s\n",
      "[CV 3/3] END ...................C=1, gamma=0.001, kernel=rbf; total time=   0.6s\n",
      "[CV 1/3] END ..................C=1, gamma=0.0001, kernel=rbf; total time=   0.5s\n",
      "[CV 2/3] END ..................C=1, gamma=0.0001, kernel=rbf; total time=   0.5s\n",
      "[CV 3/3] END ..................C=1, gamma=0.0001, kernel=rbf; total time=   0.5s\n",
      "[CV 1/3] END ......................C=10, gamma=1, kernel=rbf; total time=   0.8s\n",
      "[CV 2/3] END ......................C=10, gamma=1, kernel=rbf; total time=   0.9s\n",
      "[CV 3/3] END ......................C=10, gamma=1, kernel=rbf; total time=   0.7s\n",
      "[CV 1/3] END ....................C=10, gamma=0.1, kernel=rbf; total time=   0.7s\n",
      "[CV 2/3] END ....................C=10, gamma=0.1, kernel=rbf; total time=   0.7s\n",
      "[CV 3/3] END ....................C=10, gamma=0.1, kernel=rbf; total time=   0.7s\n",
      "[CV 1/3] END ...................C=10, gamma=0.01, kernel=rbf; total time=   0.7s\n",
      "[CV 2/3] END ...................C=10, gamma=0.01, kernel=rbf; total time=   0.6s\n",
      "[CV 3/3] END ...................C=10, gamma=0.01, kernel=rbf; total time=   0.7s\n",
      "[CV 1/3] END ..................C=10, gamma=0.001, kernel=rbf; total time=   0.5s\n",
      "[CV 2/3] END ..................C=10, gamma=0.001, kernel=rbf; total time=   0.5s\n",
      "[CV 3/3] END ..................C=10, gamma=0.001, kernel=rbf; total time=   0.6s\n",
      "[CV 1/3] END .................C=10, gamma=0.0001, kernel=rbf; total time=   0.5s\n",
      "[CV 2/3] END .................C=10, gamma=0.0001, kernel=rbf; total time=   0.5s\n",
      "[CV 3/3] END .................C=10, gamma=0.0001, kernel=rbf; total time=   0.5s\n",
      "[CV 1/3] END .....................C=100, gamma=1, kernel=rbf; total time=   0.7s\n",
      "[CV 2/3] END .....................C=100, gamma=1, kernel=rbf; total time=   0.6s\n",
      "[CV 3/3] END .....................C=100, gamma=1, kernel=rbf; total time=   0.6s\n",
      "[CV 1/3] END ...................C=100, gamma=0.1, kernel=rbf; total time=   0.6s\n",
      "[CV 2/3] END ...................C=100, gamma=0.1, kernel=rbf; total time=   0.5s\n",
      "[CV 3/3] END ...................C=100, gamma=0.1, kernel=rbf; total time=   0.6s\n",
      "[CV 1/3] END ..................C=100, gamma=0.01, kernel=rbf; total time=   0.8s\n",
      "[CV 2/3] END ..................C=100, gamma=0.01, kernel=rbf; total time=   0.5s\n",
      "[CV 3/3] END ..................C=100, gamma=0.01, kernel=rbf; total time=   0.5s\n",
      "[CV 1/3] END .................C=100, gamma=0.001, kernel=rbf; total time=   0.8s\n",
      "[CV 2/3] END .................C=100, gamma=0.001, kernel=rbf; total time=   0.7s\n",
      "[CV 3/3] END .................C=100, gamma=0.001, kernel=rbf; total time=   0.7s\n",
      "[CV 1/3] END ................C=100, gamma=0.0001, kernel=rbf; total time=   0.6s\n",
      "[CV 2/3] END ................C=100, gamma=0.0001, kernel=rbf; total time=   0.5s\n",
      "[CV 3/3] END ................C=100, gamma=0.0001, kernel=rbf; total time=   0.6s\n",
      "[CV 1/3] END ....................C=1000, gamma=1, kernel=rbf; total time=   0.9s\n",
      "[CV 2/3] END ....................C=1000, gamma=1, kernel=rbf; total time=   1.0s\n",
      "[CV 3/3] END ....................C=1000, gamma=1, kernel=rbf; total time=   0.7s\n",
      "[CV 1/3] END ..................C=1000, gamma=0.1, kernel=rbf; total time=   0.8s\n",
      "[CV 2/3] END ..................C=1000, gamma=0.1, kernel=rbf; total time=   0.7s\n",
      "[CV 3/3] END ..................C=1000, gamma=0.1, kernel=rbf; total time=   0.6s\n",
      "[CV 1/3] END .................C=1000, gamma=0.01, kernel=rbf; total time=   0.8s\n",
      "[CV 2/3] END .................C=1000, gamma=0.01, kernel=rbf; total time=   0.8s\n",
      "[CV 3/3] END .................C=1000, gamma=0.01, kernel=rbf; total time=   0.7s\n",
      "[CV 1/3] END ................C=1000, gamma=0.001, kernel=rbf; total time=   1.0s\n",
      "[CV 2/3] END ................C=1000, gamma=0.001, kernel=rbf; total time=   0.9s\n",
      "[CV 3/3] END ................C=1000, gamma=0.001, kernel=rbf; total time=   0.9s\n",
      "[CV 1/3] END ...............C=1000, gamma=0.0001, kernel=rbf; total time=   0.9s\n",
      "[CV 2/3] END ...............C=1000, gamma=0.0001, kernel=rbf; total time=   0.7s\n",
      "[CV 3/3] END ...............C=1000, gamma=0.0001, kernel=rbf; total time=   0.8s\n"
     ]
    },
    {
     "data": {
      "text/plain": [
       "GridSearchCV(cv=3, estimator=SVC(),\n",
       "             param_grid={'C': [0.1, 1, 10, 100, 1000],\n",
       "                         'gamma': [1, 0.1, 0.01, 0.001, 0.0001],\n",
       "                         'kernel': ['rbf']},\n",
       "             verbose=3)"
      ]
     },
     "execution_count": 32,
     "metadata": {},
     "output_type": "execute_result"
    }
   ],
   "source": [
    "# Reajustamos un estimador utilizando los mejores parámetros encontrados en todo el conjunto de datos.\n",
    "grid = GridSearchCV(svm.SVC(), param_grid, refit = True, cv=3,verbose = 3)\n",
    "\n",
    "#Ajustamos el modelo \n",
    "grid.fit(xTrain, yTrain)"
   ]
  },
  {
   "cell_type": "code",
   "execution_count": 33,
   "id": "b0dc656c-cae4-496d-841f-b1b272c2014d",
   "metadata": {},
   "outputs": [
    {
     "name": "stdout",
     "output_type": "stream",
     "text": [
      "{'C': 1000, 'gamma': 1, 'kernel': 'rbf'}\n",
      "SVC(C=1000, gamma=1)\n"
     ]
    }
   ],
   "source": [
    "# Vemos el mejor parametro luego del tuning\n",
    "print(grid.best_params_)\n",
    " \n",
    "#Vemos como se ve nuestro modelo luego de los ajustes\n",
    "print(grid.best_estimator_)"
   ]
  },
  {
   "cell_type": "code",
   "execution_count": 35,
   "id": "395da3bc-07e6-4bd8-8a9c-3a0804dec9ef",
   "metadata": {},
   "outputs": [
    {
     "name": "stdout",
     "output_type": "stream",
     "text": [
      "              precision    recall  f1-score   support\n",
      "\n",
      "           0       1.00      1.00      1.00      1485\n",
      "           1       1.00      1.00      1.00      1515\n",
      "\n",
      "    accuracy                           1.00      3000\n",
      "   macro avg       1.00      1.00      1.00      3000\n",
      "weighted avg       1.00      1.00      1.00      3000\n",
      "\n"
     ]
    }
   ],
   "source": [
    "grid_predictions = grid.predict(xTest)\n",
    " \n",
    "# Vemos el reporte de clasificacion \n",
    "print(classification_report(yTest, grid_predictions))"
   ]
  }
 ],
 "metadata": {
  "kernelspec": {
   "display_name": "Python 3",
   "language": "python",
   "name": "python3"
  },
  "language_info": {
   "codemirror_mode": {
    "name": "ipython",
    "version": 3
   },
   "file_extension": ".py",
   "mimetype": "text/x-python",
   "name": "python",
   "nbconvert_exporter": "python",
   "pygments_lexer": "ipython3",
   "version": "3.8.8"
  }
 },
 "nbformat": 4,
 "nbformat_minor": 5
}
