{
 "cells": [
  {
   "cell_type": "code",
   "execution_count": 1,
   "id": "f4c2c729",
   "metadata": {},
   "outputs": [
    {
     "data": {
      "image/png": "[encoded data removed]",
      "text/plain": [
       "<Figure size 432x288 with 1 Axes>"
      ]
     },
     "metadata": {
      "needs_background": "light"
     },
     "output_type": "display_data"
    },
    {
     "name": "stdout",
     "output_type": "stream",
     "text": [
      "['a']\n"
     ]
    },
    {
     "name": "stderr",
     "output_type": "stream",
     "text": [
      "C:\\Users\\darkt\\anaconda3\\lib\\site-packages\\sklearn\\neighbors\\_classification.py:179: DataConversionWarning: A column-vector y was passed when a 1d array was expected. Please change the shape of y to (n_samples,), for example using ravel().\n",
      "  return self._fit(X, y)\n"
     ]
    }
   ],
   "source": [
    "#Extraido de: https://www.themachinelearners.com/algoritmo-knn/\n",
    "        \n",
    "#K-Nearest Neighbors\n",
    "#Librerias\n",
    "import matplotlib.pyplot as plt\n",
    "import pandas as pd\n",
    "import seaborn as sns\n",
    "from sklearn.neighbors import KNeighborsClassifier\n",
    "\n",
    "data = {'A': [50, 80, 90, 45, 60],\n",
    "        'B': [1.48, 1.82, 1.85, 1.55, 1.60],\n",
    "        'Color': ['r', 'a', 'a', 'r', 'r']}\n",
    "\n",
    "punto = {'A': [70],\n",
    "               'B': [1.82]}\n",
    "\n",
    "df = pd.DataFrame(data)\n",
    "punto = pd.DataFrame(punto)\n",
    "\n",
    "ax = plt.axes()\n",
    "\n",
    "ax.scatter(df.loc[df['Color'] == 'a', 'A'],\n",
    "           df.loc[df['Color'] == 'a', 'B'],\n",
    "           c=\"red\",\n",
    "           label=\"aa\")\n",
    "ax.scatter(df.loc[df['Color'] == 'r', 'A'],\n",
    "           df.loc[df['Color'] == 'r', 'B'],\n",
    "           c=\"blue\",\n",
    "           label=\"rr\")\n",
    "ax.scatter(punto['A'],\n",
    "           punto['B'],\n",
    "           c=\"black\")\n",
    "plt.xlabel(\"A\")\n",
    "plt.ylabel(\"B\")\n",
    "ax.legend()\n",
    "plt.show()\n",
    "\n",
    "from sklearn.neighbors import KNeighborsClassifier\n",
    "\n",
    "knn = KNeighborsClassifier(n_neighbors=3)\n",
    "X = df[['A', 'B']]\n",
    "y = df[['Color']]\n",
    "\n",
    "knn.fit(X, y)\n",
    "\n",
    "suposicion = knn.predict(punto)\n",
    "print(suposicion)"
   ]
  },
  {
   "cell_type": "code",
   "execution_count": null,
   "id": "186ae9e2",
   "metadata": {},
   "outputs": [],
   "source": []
  }
 ],
 "metadata": {
  "kernelspec": {
   "display_name": "Python 3 (ipykernel)",
   "language": "python",
   "name": "python3"
  },
  "language_info": {
   "codemirror_mode": {
    "name": "ipython",
    "version": 3
   },
   "file_extension": ".py",
   "mimetype": "text/x-python",
   "name": "python",
   "nbconvert_exporter": "python",
   "pygments_lexer": "ipython3",
   "version": "3.9.7"
  }
 },
 "nbformat": 4,
 "nbformat_minor": 5
}
